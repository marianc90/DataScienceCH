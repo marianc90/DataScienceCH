{
 "cells": [
  {
   "cell_type": "code",
   "execution_count": 2,
   "metadata": {},
   "outputs": [],
   "source": [
    "import pandas as pd\n",
    "import numpy as np\n"
   ]
  },
  {
   "cell_type": "code",
   "execution_count": 3,
   "metadata": {},
   "outputs": [
    {
     "name": "stdout",
     "output_type": "stream",
     "text": [
      "[50, 52, 54, 56, 58, 60, 62, 64, 66, 68]\n"
     ]
    }
   ],
   "source": [
    "Numeros = range(50, 70, 2)\n",
    "print(list(Numeros))"
   ]
  },
  {
   "cell_type": "code",
   "execution_count": 5,
   "metadata": {},
   "outputs": [
    {
     "name": "stdout",
     "output_type": "stream",
     "text": [
      "0    50\n",
      "1    52\n",
      "2    54\n",
      "3    56\n",
      "4    58\n",
      "5    60\n",
      "6    62\n",
      "7    64\n",
      "8    66\n",
      "9    68\n",
      "dtype: int64\n"
     ]
    }
   ],
   "source": [
    "Numeros_serie = pd.Series(Numeros)\n",
    "print(Numeros_serie)"
   ]
  },
  {
   "cell_type": "code",
   "execution_count": 6,
   "metadata": {},
   "outputs": [
    {
     "name": "stdout",
     "output_type": "stream",
     "text": [
      "54\n"
     ]
    }
   ],
   "source": [
    "print(Numeros_serie[2])"
   ]
  },
  {
   "cell_type": "code",
   "execution_count": 8,
   "metadata": {},
   "outputs": [
    {
     "name": "stdout",
     "output_type": "stream",
     "text": [
      "RangeIndex(start=0, stop=10, step=1)\n",
      "[50 52 54 56 58 60 62 64 66 68]\n"
     ]
    }
   ],
   "source": [
    "print(Numeros_serie.index)\n",
    "print(Numeros_serie.values)"
   ]
  },
  {
   "cell_type": "code",
   "execution_count": 12,
   "metadata": {},
   "outputs": [
    {
     "name": "stdout",
     "output_type": "stream",
     "text": [
      "primero    50\n",
      "segundo    52\n",
      "tercero    54\n",
      "cuarto     56\n",
      "quinto     58\n",
      "sexto      60\n",
      "septimo    62\n",
      "octavo     64\n",
      "noveno     66\n",
      "decimo     68\n",
      "dtype: int64\n"
     ]
    }
   ],
   "source": [
    "Numeros_en_texto=['primero','segundo','tercero','cuarto','quinto','sexto','septimo','octavo','noveno','decimo']\n",
    "Numeros_serie2=pd.Series(Numeros,index=Numeros_en_texto)\n",
    "print(Numeros_serie2)\n"
   ]
  },
  {
   "cell_type": "code",
   "execution_count": 11,
   "metadata": {},
   "outputs": [
    {
     "name": "stdout",
     "output_type": "stream",
     "text": [
      "Index(['primero', 'segundo', 'tercero', 'cuarto', 'quinto', 'sexto', 'septimo',\n",
      "       'octavo', 'noveno', 'decimo'],\n",
      "      dtype='object')\n"
     ]
    }
   ],
   "source": [
    "print(Numeros_serie2.index)"
   ]
  },
  {
   "cell_type": "markdown",
   "metadata": {},
   "source": [
    "#Dataframes"
   ]
  },
  {
   "cell_type": "code",
   "execution_count": 14,
   "metadata": {},
   "outputs": [
    {
     "name": "stdout",
     "output_type": "stream",
     "text": [
      "X5     3500\n",
      "X6     3600\n",
      "X7     3700\n",
      "X8     3800\n",
      "X9     3900\n",
      "X10    4000\n",
      "X11    4100\n",
      "X12    4200\n",
      "X13    4300\n",
      "X14    4400\n",
      "dtype: int64\n",
      "\n",
      "\n",
      "X5     25000\n",
      "X6     26000\n",
      "X7     27000\n",
      "X8     28000\n",
      "X9     29000\n",
      "X10    30000\n",
      "X11    31000\n",
      "X12    32000\n",
      "X13    33000\n",
      "X14    34000\n",
      "dtype: int64\n"
     ]
    }
   ],
   "source": [
    "modelos = ['X5','X6','X7','X8','X9','X10','X11','X12','X13','X14']\n",
    "peso=[3500,3600,3700,3800,3900,4000,4100,4200,4300,4400]\n",
    "precios=[25000,26000,27000,28000,29000,30000,31000,32000,33000,34000]\n",
    "#creo las series que necesito para mi dataframe\n",
    "peso_series=pd.Series(peso,index=modelos)\n",
    "precio_series=pd.Series(precios,index=modelos)\n",
    "print(peso_series)\n",
    "print(\"\\n\")\n",
    "print(precio_series)"
   ]
  },
  {
   "cell_type": "code",
   "execution_count": 15,
   "metadata": {},
   "outputs": [
    {
     "data": {
      "text/html": [
       "<div>\n",
       "<style scoped>\n",
       "    .dataframe tbody tr th:only-of-type {\n",
       "        vertical-align: middle;\n",
       "    }\n",
       "\n",
       "    .dataframe tbody tr th {\n",
       "        vertical-align: top;\n",
       "    }\n",
       "\n",
       "    .dataframe thead th {\n",
       "        text-align: right;\n",
       "    }\n",
       "</style>\n",
       "<table border=\"1\" class=\"dataframe\">\n",
       "  <thead>\n",
       "    <tr style=\"text-align: right;\">\n",
       "      <th></th>\n",
       "      <th>Peso</th>\n",
       "      <th>Precio</th>\n",
       "    </tr>\n",
       "  </thead>\n",
       "  <tbody>\n",
       "    <tr>\n",
       "      <th>X5</th>\n",
       "      <td>3500</td>\n",
       "      <td>25000</td>\n",
       "    </tr>\n",
       "    <tr>\n",
       "      <th>X6</th>\n",
       "      <td>3600</td>\n",
       "      <td>26000</td>\n",
       "    </tr>\n",
       "    <tr>\n",
       "      <th>X7</th>\n",
       "      <td>3700</td>\n",
       "      <td>27000</td>\n",
       "    </tr>\n",
       "    <tr>\n",
       "      <th>X8</th>\n",
       "      <td>3800</td>\n",
       "      <td>28000</td>\n",
       "    </tr>\n",
       "    <tr>\n",
       "      <th>X9</th>\n",
       "      <td>3900</td>\n",
       "      <td>29000</td>\n",
       "    </tr>\n",
       "    <tr>\n",
       "      <th>X10</th>\n",
       "      <td>4000</td>\n",
       "      <td>30000</td>\n",
       "    </tr>\n",
       "    <tr>\n",
       "      <th>X11</th>\n",
       "      <td>4100</td>\n",
       "      <td>31000</td>\n",
       "    </tr>\n",
       "    <tr>\n",
       "      <th>X12</th>\n",
       "      <td>4200</td>\n",
       "      <td>32000</td>\n",
       "    </tr>\n",
       "    <tr>\n",
       "      <th>X13</th>\n",
       "      <td>4300</td>\n",
       "      <td>33000</td>\n",
       "    </tr>\n",
       "    <tr>\n",
       "      <th>X14</th>\n",
       "      <td>4400</td>\n",
       "      <td>34000</td>\n",
       "    </tr>\n",
       "  </tbody>\n",
       "</table>\n",
       "</div>"
      ],
      "text/plain": [
       "     Peso  Precio\n",
       "X5   3500   25000\n",
       "X6   3600   26000\n",
       "X7   3700   27000\n",
       "X8   3800   28000\n",
       "X9   3900   29000\n",
       "X10  4000   30000\n",
       "X11  4100   31000\n",
       "X12  4200   32000\n",
       "X13  4300   33000\n",
       "X14  4400   34000"
      ]
     },
     "execution_count": 15,
     "metadata": {},
     "output_type": "execute_result"
    }
   ],
   "source": [
    "#construyo el dataframe combinando las series\n",
    "autos=pd.DataFrame({'Peso':peso_series,'Precio':precio_series})\n",
    "autos"
   ]
  },
  {
   "cell_type": "code",
   "execution_count": 17,
   "metadata": {},
   "outputs": [
    {
     "name": "stdout",
     "output_type": "stream",
     "text": [
      "    Peso  Precio\n",
      "X5  3500   25000\n",
      "X6  3600   26000\n"
     ]
    }
   ],
   "source": [
    "print(autos.head(2))"
   ]
  },
  {
   "cell_type": "code",
   "execution_count": 18,
   "metadata": {},
   "outputs": [
    {
     "name": "stdout",
     "output_type": "stream",
     "text": [
      "     Peso  Precio\n",
      "X13  4300   33000\n",
      "X14  4400   34000\n"
     ]
    }
   ],
   "source": [
    "print(autos.tail(2))"
   ]
  },
  {
   "cell_type": "code",
   "execution_count": 20,
   "metadata": {},
   "outputs": [
    {
     "data": {
      "text/html": [
       "<div>\n",
       "<style scoped>\n",
       "    .dataframe tbody tr th:only-of-type {\n",
       "        vertical-align: middle;\n",
       "    }\n",
       "\n",
       "    .dataframe tbody tr th {\n",
       "        vertical-align: top;\n",
       "    }\n",
       "\n",
       "    .dataframe thead th {\n",
       "        text-align: right;\n",
       "    }\n",
       "</style>\n",
       "<table border=\"1\" class=\"dataframe\">\n",
       "  <thead>\n",
       "    <tr style=\"text-align: right;\">\n",
       "      <th></th>\n",
       "      <th>Peso</th>\n",
       "      <th>Precio</th>\n",
       "    </tr>\n",
       "  </thead>\n",
       "  <tbody>\n",
       "    <tr>\n",
       "      <th>count</th>\n",
       "      <td>10.000000</td>\n",
       "      <td>10.000000</td>\n",
       "    </tr>\n",
       "    <tr>\n",
       "      <th>mean</th>\n",
       "      <td>3950.000000</td>\n",
       "      <td>29500.000000</td>\n",
       "    </tr>\n",
       "    <tr>\n",
       "      <th>std</th>\n",
       "      <td>302.765035</td>\n",
       "      <td>3027.650354</td>\n",
       "    </tr>\n",
       "    <tr>\n",
       "      <th>min</th>\n",
       "      <td>3500.000000</td>\n",
       "      <td>25000.000000</td>\n",
       "    </tr>\n",
       "    <tr>\n",
       "      <th>25%</th>\n",
       "      <td>3725.000000</td>\n",
       "      <td>27250.000000</td>\n",
       "    </tr>\n",
       "    <tr>\n",
       "      <th>50%</th>\n",
       "      <td>3950.000000</td>\n",
       "      <td>29500.000000</td>\n",
       "    </tr>\n",
       "    <tr>\n",
       "      <th>75%</th>\n",
       "      <td>4175.000000</td>\n",
       "      <td>31750.000000</td>\n",
       "    </tr>\n",
       "    <tr>\n",
       "      <th>max</th>\n",
       "      <td>4400.000000</td>\n",
       "      <td>34000.000000</td>\n",
       "    </tr>\n",
       "  </tbody>\n",
       "</table>\n",
       "</div>"
      ],
      "text/plain": [
       "              Peso        Precio\n",
       "count    10.000000     10.000000\n",
       "mean   3950.000000  29500.000000\n",
       "std     302.765035   3027.650354\n",
       "min    3500.000000  25000.000000\n",
       "25%    3725.000000  27250.000000\n",
       "50%    3950.000000  29500.000000\n",
       "75%    4175.000000  31750.000000\n",
       "max    4400.000000  34000.000000"
      ]
     },
     "execution_count": 20,
     "metadata": {},
     "output_type": "execute_result"
    }
   ],
   "source": [
    "autos.describe()"
   ]
  },
  {
   "cell_type": "code",
   "execution_count": 21,
   "metadata": {},
   "outputs": [
    {
     "name": "stdout",
     "output_type": "stream",
     "text": [
      "<class 'pandas.core.frame.DataFrame'>\n",
      "Index: 10 entries, X5 to X14\n",
      "Data columns (total 2 columns):\n",
      " #   Column  Non-Null Count  Dtype\n",
      "---  ------  --------------  -----\n",
      " 0   Peso    10 non-null     int64\n",
      " 1   Precio  10 non-null     int64\n",
      "dtypes: int64(2)\n",
      "memory usage: 240.0+ bytes\n"
     ]
    }
   ],
   "source": [
    "autos.info()"
   ]
  },
  {
   "cell_type": "code",
   "execution_count": 22,
   "metadata": {},
   "outputs": [
    {
     "data": {
      "text/plain": [
       "Index(['Peso', 'Precio'], dtype='object')"
      ]
     },
     "execution_count": 22,
     "metadata": {},
     "output_type": "execute_result"
    }
   ],
   "source": [
    "autos.columns"
   ]
  },
  {
   "cell_type": "code",
   "execution_count": 24,
   "metadata": {},
   "outputs": [
    {
     "data": {
      "text/plain": [
       "X5     3500\n",
       "X6     3600\n",
       "X7     3700\n",
       "X8     3800\n",
       "X9     3900\n",
       "X10    4000\n",
       "X11    4100\n",
       "X12    4200\n",
       "X13    4300\n",
       "X14    4400\n",
       "Name: Peso, dtype: int64"
      ]
     },
     "execution_count": 24,
     "metadata": {},
     "output_type": "execute_result"
    }
   ],
   "source": [
    "autos['Peso']"
   ]
  },
  {
   "cell_type": "code",
   "execution_count": 29,
   "metadata": {},
   "outputs": [
    {
     "name": "stdout",
     "output_type": "stream",
     "text": [
      "X5     7.14\n",
      "X6     7.22\n",
      "X7     7.30\n",
      "X8     7.37\n",
      "X9     7.44\n",
      "X10    7.50\n",
      "X11    7.56\n",
      "X12    7.62\n",
      "X13    7.67\n",
      "X14    7.73\n",
      "Name: PrecioPorKg, dtype: float64\n"
     ]
    }
   ],
   "source": [
    "autos[\"PrecioPorKg\"]=(autos[\"Precio\"]/autos[\"Peso\"]).round(2)\n",
    "print(autos[\"PrecioPorKg\"])"
   ]
  },
  {
   "cell_type": "code",
   "execution_count": 30,
   "metadata": {},
   "outputs": [
    {
     "data": {
      "text/html": [
       "<div>\n",
       "<style scoped>\n",
       "    .dataframe tbody tr th:only-of-type {\n",
       "        vertical-align: middle;\n",
       "    }\n",
       "\n",
       "    .dataframe tbody tr th {\n",
       "        vertical-align: top;\n",
       "    }\n",
       "\n",
       "    .dataframe thead th {\n",
       "        text-align: right;\n",
       "    }\n",
       "</style>\n",
       "<table border=\"1\" class=\"dataframe\">\n",
       "  <thead>\n",
       "    <tr style=\"text-align: right;\">\n",
       "      <th></th>\n",
       "      <th>Peso</th>\n",
       "      <th>Precio</th>\n",
       "      <th>PrecioPorKg</th>\n",
       "    </tr>\n",
       "  </thead>\n",
       "  <tbody>\n",
       "    <tr>\n",
       "      <th>X5</th>\n",
       "      <td>3500</td>\n",
       "      <td>25000</td>\n",
       "      <td>7.14</td>\n",
       "    </tr>\n",
       "    <tr>\n",
       "      <th>X6</th>\n",
       "      <td>3600</td>\n",
       "      <td>26000</td>\n",
       "      <td>7.22</td>\n",
       "    </tr>\n",
       "    <tr>\n",
       "      <th>X7</th>\n",
       "      <td>3700</td>\n",
       "      <td>27000</td>\n",
       "      <td>7.30</td>\n",
       "    </tr>\n",
       "    <tr>\n",
       "      <th>X8</th>\n",
       "      <td>3800</td>\n",
       "      <td>28000</td>\n",
       "      <td>7.37</td>\n",
       "    </tr>\n",
       "    <tr>\n",
       "      <th>X9</th>\n",
       "      <td>3900</td>\n",
       "      <td>29000</td>\n",
       "      <td>7.44</td>\n",
       "    </tr>\n",
       "    <tr>\n",
       "      <th>X10</th>\n",
       "      <td>4000</td>\n",
       "      <td>30000</td>\n",
       "      <td>7.50</td>\n",
       "    </tr>\n",
       "    <tr>\n",
       "      <th>X11</th>\n",
       "      <td>4100</td>\n",
       "      <td>31000</td>\n",
       "      <td>7.56</td>\n",
       "    </tr>\n",
       "    <tr>\n",
       "      <th>X12</th>\n",
       "      <td>4200</td>\n",
       "      <td>32000</td>\n",
       "      <td>7.62</td>\n",
       "    </tr>\n",
       "    <tr>\n",
       "      <th>X13</th>\n",
       "      <td>4300</td>\n",
       "      <td>33000</td>\n",
       "      <td>7.67</td>\n",
       "    </tr>\n",
       "    <tr>\n",
       "      <th>X14</th>\n",
       "      <td>4400</td>\n",
       "      <td>34000</td>\n",
       "      <td>7.73</td>\n",
       "    </tr>\n",
       "  </tbody>\n",
       "</table>\n",
       "</div>"
      ],
      "text/plain": [
       "     Peso  Precio  PrecioPorKg\n",
       "X5   3500   25000         7.14\n",
       "X6   3600   26000         7.22\n",
       "X7   3700   27000         7.30\n",
       "X8   3800   28000         7.37\n",
       "X9   3900   29000         7.44\n",
       "X10  4000   30000         7.50\n",
       "X11  4100   31000         7.56\n",
       "X12  4200   32000         7.62\n",
       "X13  4300   33000         7.67\n",
       "X14  4400   34000         7.73"
      ]
     },
     "execution_count": 30,
     "metadata": {},
     "output_type": "execute_result"
    }
   ],
   "source": [
    "autos"
   ]
  },
  {
   "cell_type": "code",
   "execution_count": 35,
   "metadata": {},
   "outputs": [
    {
     "data": {
      "text/html": [
       "<div>\n",
       "<style scoped>\n",
       "    .dataframe tbody tr th:only-of-type {\n",
       "        vertical-align: middle;\n",
       "    }\n",
       "\n",
       "    .dataframe tbody tr th {\n",
       "        vertical-align: top;\n",
       "    }\n",
       "\n",
       "    .dataframe thead th {\n",
       "        text-align: right;\n",
       "    }\n",
       "</style>\n",
       "<table border=\"1\" class=\"dataframe\">\n",
       "  <thead>\n",
       "    <tr style=\"text-align: right;\">\n",
       "      <th></th>\n",
       "      <th>Peso</th>\n",
       "      <th>Precio</th>\n",
       "      <th>PrecioPorKg</th>\n",
       "    </tr>\n",
       "    <tr>\n",
       "      <th>Modelos</th>\n",
       "      <th></th>\n",
       "      <th></th>\n",
       "      <th></th>\n",
       "    </tr>\n",
       "  </thead>\n",
       "  <tbody>\n",
       "    <tr>\n",
       "      <th>X5</th>\n",
       "      <td>3500</td>\n",
       "      <td>25000</td>\n",
       "      <td>7.14</td>\n",
       "    </tr>\n",
       "    <tr>\n",
       "      <th>X6</th>\n",
       "      <td>3600</td>\n",
       "      <td>26000</td>\n",
       "      <td>7.22</td>\n",
       "    </tr>\n",
       "    <tr>\n",
       "      <th>X7</th>\n",
       "      <td>3700</td>\n",
       "      <td>27000</td>\n",
       "      <td>7.30</td>\n",
       "    </tr>\n",
       "    <tr>\n",
       "      <th>X8</th>\n",
       "      <td>3800</td>\n",
       "      <td>28000</td>\n",
       "      <td>7.37</td>\n",
       "    </tr>\n",
       "    <tr>\n",
       "      <th>X9</th>\n",
       "      <td>3900</td>\n",
       "      <td>29000</td>\n",
       "      <td>7.44</td>\n",
       "    </tr>\n",
       "    <tr>\n",
       "      <th>X10</th>\n",
       "      <td>4000</td>\n",
       "      <td>30000</td>\n",
       "      <td>7.50</td>\n",
       "    </tr>\n",
       "    <tr>\n",
       "      <th>X11</th>\n",
       "      <td>4100</td>\n",
       "      <td>31000</td>\n",
       "      <td>7.56</td>\n",
       "    </tr>\n",
       "    <tr>\n",
       "      <th>X12</th>\n",
       "      <td>4200</td>\n",
       "      <td>32000</td>\n",
       "      <td>7.62</td>\n",
       "    </tr>\n",
       "    <tr>\n",
       "      <th>X13</th>\n",
       "      <td>4300</td>\n",
       "      <td>33000</td>\n",
       "      <td>7.67</td>\n",
       "    </tr>\n",
       "    <tr>\n",
       "      <th>X14</th>\n",
       "      <td>4400</td>\n",
       "      <td>34000</td>\n",
       "      <td>7.73</td>\n",
       "    </tr>\n",
       "  </tbody>\n",
       "</table>\n",
       "</div>"
      ],
      "text/plain": [
       "         Peso  Precio  PrecioPorKg\n",
       "Modelos                           \n",
       "X5       3500   25000         7.14\n",
       "X6       3600   26000         7.22\n",
       "X7       3700   27000         7.30\n",
       "X8       3800   28000         7.37\n",
       "X9       3900   29000         7.44\n",
       "X10      4000   30000         7.50\n",
       "X11      4100   31000         7.56\n",
       "X12      4200   32000         7.62\n",
       "X13      4300   33000         7.67\n",
       "X14      4400   34000         7.73"
      ]
     },
     "execution_count": 35,
     "metadata": {},
     "output_type": "execute_result"
    }
   ],
   "source": [
    "autos.rename_axis(\"Modelos\")\n",
    "#No lo modifica, solo cambia el nombre si se lo llama asi"
   ]
  },
  {
   "cell_type": "code",
   "execution_count": 34,
   "metadata": {},
   "outputs": [
    {
     "data": {
      "text/html": [
       "<div>\n",
       "<style scoped>\n",
       "    .dataframe tbody tr th:only-of-type {\n",
       "        vertical-align: middle;\n",
       "    }\n",
       "\n",
       "    .dataframe tbody tr th {\n",
       "        vertical-align: top;\n",
       "    }\n",
       "\n",
       "    .dataframe thead th {\n",
       "        text-align: right;\n",
       "    }\n",
       "</style>\n",
       "<table border=\"1\" class=\"dataframe\">\n",
       "  <thead>\n",
       "    <tr style=\"text-align: right;\">\n",
       "      <th></th>\n",
       "      <th>Peso</th>\n",
       "      <th>Precio</th>\n",
       "      <th>PrecioPorKg</th>\n",
       "    </tr>\n",
       "  </thead>\n",
       "  <tbody>\n",
       "    <tr>\n",
       "      <th>X5</th>\n",
       "      <td>3500</td>\n",
       "      <td>25000</td>\n",
       "      <td>7.14</td>\n",
       "    </tr>\n",
       "    <tr>\n",
       "      <th>X6</th>\n",
       "      <td>3600</td>\n",
       "      <td>26000</td>\n",
       "      <td>7.22</td>\n",
       "    </tr>\n",
       "    <tr>\n",
       "      <th>X7</th>\n",
       "      <td>3700</td>\n",
       "      <td>27000</td>\n",
       "      <td>7.30</td>\n",
       "    </tr>\n",
       "    <tr>\n",
       "      <th>X8</th>\n",
       "      <td>3800</td>\n",
       "      <td>28000</td>\n",
       "      <td>7.37</td>\n",
       "    </tr>\n",
       "    <tr>\n",
       "      <th>X9</th>\n",
       "      <td>3900</td>\n",
       "      <td>29000</td>\n",
       "      <td>7.44</td>\n",
       "    </tr>\n",
       "    <tr>\n",
       "      <th>X10</th>\n",
       "      <td>4000</td>\n",
       "      <td>30000</td>\n",
       "      <td>7.50</td>\n",
       "    </tr>\n",
       "    <tr>\n",
       "      <th>X11</th>\n",
       "      <td>4100</td>\n",
       "      <td>31000</td>\n",
       "      <td>7.56</td>\n",
       "    </tr>\n",
       "    <tr>\n",
       "      <th>X12</th>\n",
       "      <td>4200</td>\n",
       "      <td>32000</td>\n",
       "      <td>7.62</td>\n",
       "    </tr>\n",
       "    <tr>\n",
       "      <th>X13</th>\n",
       "      <td>4300</td>\n",
       "      <td>33000</td>\n",
       "      <td>7.67</td>\n",
       "    </tr>\n",
       "    <tr>\n",
       "      <th>X14</th>\n",
       "      <td>4400</td>\n",
       "      <td>34000</td>\n",
       "      <td>7.73</td>\n",
       "    </tr>\n",
       "  </tbody>\n",
       "</table>\n",
       "</div>"
      ],
      "text/plain": [
       "     Peso  Precio  PrecioPorKg\n",
       "X5   3500   25000         7.14\n",
       "X6   3600   26000         7.22\n",
       "X7   3700   27000         7.30\n",
       "X8   3800   28000         7.37\n",
       "X9   3900   29000         7.44\n",
       "X10  4000   30000         7.50\n",
       "X11  4100   31000         7.56\n",
       "X12  4200   32000         7.62\n",
       "X13  4300   33000         7.67\n",
       "X14  4400   34000         7.73"
      ]
     },
     "execution_count": 34,
     "metadata": {},
     "output_type": "execute_result"
    }
   ],
   "source": [
    "autos"
   ]
  },
  {
   "cell_type": "code",
   "execution_count": 37,
   "metadata": {},
   "outputs": [
    {
     "data": {
      "text/plain": [
       "np.int64(58)"
      ]
     },
     "execution_count": 37,
     "metadata": {},
     "output_type": "execute_result"
    }
   ],
   "source": [
    "Numeros_serie2[\"quinto\"]"
   ]
  },
  {
   "cell_type": "code",
   "execution_count": 38,
   "metadata": {},
   "outputs": [
    {
     "data": {
      "text/plain": [
       "np.int64(58)"
      ]
     },
     "execution_count": 38,
     "metadata": {},
     "output_type": "execute_result"
    }
   ],
   "source": [
    "Numeros_serie2.loc[\"quinto\"]"
   ]
  },
  {
   "cell_type": "code",
   "execution_count": 39,
   "metadata": {},
   "outputs": [
    {
     "data": {
      "text/plain": [
       "np.int64(58)"
      ]
     },
     "execution_count": 39,
     "metadata": {},
     "output_type": "execute_result"
    }
   ],
   "source": [
    "Numeros_serie2.iloc[4]"
   ]
  },
  {
   "cell_type": "code",
   "execution_count": 36,
   "metadata": {},
   "outputs": [
    {
     "data": {
      "text/plain": [
       "Peso            3600.00\n",
       "Precio         26000.00\n",
       "PrecioPorKg        7.22\n",
       "Name: X6, dtype: float64"
      ]
     },
     "execution_count": 36,
     "metadata": {},
     "output_type": "execute_result"
    }
   ],
   "source": [
    "autos.iloc[1]"
   ]
  },
  {
   "cell_type": "code",
   "execution_count": 40,
   "metadata": {},
   "outputs": [
    {
     "data": {
      "text/plain": [
       "Index(['X5', 'X6', 'X7', 'X8', 'X9', 'X10', 'X11', 'X12', 'X13', 'X14'], dtype='object')"
      ]
     },
     "execution_count": 40,
     "metadata": {},
     "output_type": "execute_result"
    }
   ],
   "source": [
    "autos.index"
   ]
  },
  {
   "cell_type": "code",
   "execution_count": 42,
   "metadata": {},
   "outputs": [
    {
     "data": {
      "text/plain": [
       "array([3.60e+03, 2.60e+04, 7.22e+00])"
      ]
     },
     "execution_count": 42,
     "metadata": {},
     "output_type": "execute_result"
    }
   ],
   "source": [
    "autos.values[1]"
   ]
  },
  {
   "cell_type": "code",
   "execution_count": 45,
   "metadata": {},
   "outputs": [
    {
     "data": {
      "text/html": [
       "<div>\n",
       "<style scoped>\n",
       "    .dataframe tbody tr th:only-of-type {\n",
       "        vertical-align: middle;\n",
       "    }\n",
       "\n",
       "    .dataframe tbody tr th {\n",
       "        vertical-align: top;\n",
       "    }\n",
       "\n",
       "    .dataframe thead th {\n",
       "        text-align: right;\n",
       "    }\n",
       "</style>\n",
       "<table border=\"1\" class=\"dataframe\">\n",
       "  <thead>\n",
       "    <tr style=\"text-align: right;\">\n",
       "      <th></th>\n",
       "      <th>Precio</th>\n",
       "      <th>PrecioPorKg</th>\n",
       "    </tr>\n",
       "  </thead>\n",
       "  <tbody>\n",
       "    <tr>\n",
       "      <th>X9</th>\n",
       "      <td>29000</td>\n",
       "      <td>7.44</td>\n",
       "    </tr>\n",
       "    <tr>\n",
       "      <th>X10</th>\n",
       "      <td>30000</td>\n",
       "      <td>7.50</td>\n",
       "    </tr>\n",
       "    <tr>\n",
       "      <th>X11</th>\n",
       "      <td>31000</td>\n",
       "      <td>7.56</td>\n",
       "    </tr>\n",
       "    <tr>\n",
       "      <th>X12</th>\n",
       "      <td>32000</td>\n",
       "      <td>7.62</td>\n",
       "    </tr>\n",
       "    <tr>\n",
       "      <th>X13</th>\n",
       "      <td>33000</td>\n",
       "      <td>7.67</td>\n",
       "    </tr>\n",
       "    <tr>\n",
       "      <th>X14</th>\n",
       "      <td>34000</td>\n",
       "      <td>7.73</td>\n",
       "    </tr>\n",
       "  </tbody>\n",
       "</table>\n",
       "</div>"
      ],
      "text/plain": [
       "     Precio  PrecioPorKg\n",
       "X9    29000         7.44\n",
       "X10   30000         7.50\n",
       "X11   31000         7.56\n",
       "X12   32000         7.62\n",
       "X13   33000         7.67\n",
       "X14   34000         7.73"
      ]
     },
     "execution_count": 45,
     "metadata": {},
     "output_type": "execute_result"
    }
   ],
   "source": [
    "autos.loc[autos.Precio>=29000, [\"Precio\",\"PrecioPorKg\"]]"
   ]
  },
  {
   "cell_type": "code",
   "execution_count": null,
   "metadata": {},
   "outputs": [],
   "source": [
    "#autos.t traspuesta"
   ]
  },
  {
   "cell_type": "code",
   "execution_count": null,
   "metadata": {},
   "outputs": [],
   "source": [
    "largo = [179,179,192,192,192,192,192,192,192,192]\n"
   ]
  },
  {
   "cell_type": "code",
   "execution_count": 46,
   "metadata": {},
   "outputs": [],
   "source": [
    "numeros3=range(51,70,2)\n",
    "Numeros_en_texto2=['primero','segundo','tercero','cuarto','quinto','sexto','septimo','octavo','noveno','decimo']\n",
    "Numeros_serie3=pd.Series(numeros3,index=Numeros_en_texto2)\n"
   ]
  },
  {
   "cell_type": "code",
   "execution_count": 47,
   "metadata": {},
   "outputs": [
    {
     "name": "stdout",
     "output_type": "stream",
     "text": [
      "Serie Original:\n",
      "primero    51\n",
      "segundo    53\n",
      "tercero    55\n",
      "cuarto     57\n",
      "quinto     59\n",
      "sexto      61\n",
      "septimo    63\n",
      "octavo     65\n",
      "noveno     67\n",
      "decimo     69\n",
      "dtype: int64\n"
     ]
    }
   ],
   "source": [
    "print(\"Serie Original:\")\n",
    "print(Numeros_serie3)"
   ]
  },
  {
   "cell_type": "code",
   "execution_count": 48,
   "metadata": {},
   "outputs": [
    {
     "name": "stdout",
     "output_type": "stream",
     "text": [
      "Serie al cuadrado\n",
      "primero    2601\n",
      "segundo    2809\n",
      "tercero    3025\n",
      "cuarto     3249\n",
      "quinto     3481\n",
      "sexto      3721\n",
      "septimo    3969\n",
      "octavo     4225\n",
      "noveno     4489\n",
      "decimo     4761\n",
      "dtype: int64\n"
     ]
    }
   ],
   "source": [
    "Numeros_al_cuardado= Numeros_serie3 ** 2\n",
    "print(\"Serie al cuadrado\")\n",
    "print(Numeros_al_cuardado)"
   ]
  },
  {
   "cell_type": "code",
   "execution_count": 49,
   "metadata": {},
   "outputs": [],
   "source": [
    "peso2=[3500,3600,3700,3800,3900,4000,4100,4200,4300,4400]\n",
    "largo2=[179,179,192,192,192,192,192,192,192,192]\n",
    "modelos2=['X5','X6','X7','X8','X9','X10','X11','X12','X13','X14']\n",
    "Autos_2=pd.DataFrame({\"Peso:\":peso2,\"Largo\":largo2},index=modelos2)"
   ]
  },
  {
   "cell_type": "code",
   "execution_count": 50,
   "metadata": {},
   "outputs": [
    {
     "name": "stdout",
     "output_type": "stream",
     "text": [
      "Dataframe original:\n",
      "     Peso:  Largo\n",
      "X5    3500    179\n",
      "X6    3600    179\n",
      "X7    3700    192\n",
      "X8    3800    192\n",
      "X9    3900    192\n",
      "X10   4000    192\n",
      "X11   4100    192\n",
      "X12   4200    192\n",
      "X13   4300    192\n",
      "X14   4400    192\n"
     ]
    }
   ],
   "source": [
    "print(\"Dataframe original:\")\n",
    "print(Autos_2)"
   ]
  },
  {
   "cell_type": "code",
   "execution_count": 53,
   "metadata": {},
   "outputs": [],
   "source": [
    "Proncentajes=Autos_2/Autos_2.iloc[1]*100"
   ]
  },
  {
   "cell_type": "code",
   "execution_count": 54,
   "metadata": {},
   "outputs": [
    {
     "name": "stdout",
     "output_type": "stream",
     "text": [
      "          Peso:      Largo\n",
      "X5    97.222222  100.00000\n",
      "X6   100.000000  100.00000\n",
      "X7   102.777778  107.26257\n",
      "X8   105.555556  107.26257\n",
      "X9   108.333333  107.26257\n",
      "X10  111.111111  107.26257\n",
      "X11  113.888889  107.26257\n",
      "X12  116.666667  107.26257\n",
      "X13  119.444444  107.26257\n",
      "X14  122.222222  107.26257\n"
     ]
    }
   ],
   "source": [
    "print(Proncentajes)"
   ]
  },
  {
   "cell_type": "code",
   "execution_count": 55,
   "metadata": {},
   "outputs": [],
   "source": [
    "# Definir dos Series con índices diferentes\n",
    "\n",
    "Numeros_en_texto_2 = [\"primero\", \"segundo\", \"tercero\", \"cuarto\", \"quinto\", \"sexto\", \"séptimo\", \"octavo\", \"noveno\", \"décimo\"] \n",
    "Numeros_serie_2 = pd.Series([50, 52, 54, 56, 58, 60, 62, 64, 66, 68], index=Numeros_en_texto_2)\n",
    "Numeros_en_texto_3 = [\"segundo\", \"cuarto\", \"quinto\", \"sexto\", \"octavo\", \"décimo\", \"undécimo\"] \n",
    "Numeros_serie_3 = pd.Series([100, 200, 300, 400, 500, 600, 700], index=Numeros_en_texto_3)"
   ]
  },
  {
   "cell_type": "code",
   "execution_count": 56,
   "metadata": {},
   "outputs": [],
   "source": [
    "Suma_series=Numeros_serie_2+Numeros_serie_3"
   ]
  },
  {
   "cell_type": "code",
   "execution_count": 57,
   "metadata": {},
   "outputs": [
    {
     "name": "stdout",
     "output_type": "stream",
     "text": [
      "cuarto      256.0\n",
      "décimo      668.0\n",
      "noveno        NaN\n",
      "octavo      564.0\n",
      "primero       NaN\n",
      "quinto      358.0\n",
      "segundo     152.0\n",
      "sexto       460.0\n",
      "séptimo       NaN\n",
      "tercero       NaN\n",
      "undécimo      NaN\n",
      "dtype: float64\n"
     ]
    }
   ],
   "source": [
    "print(Suma_series)"
   ]
  },
  {
   "cell_type": "code",
   "execution_count": 58,
   "metadata": {},
   "outputs": [],
   "source": [
    "Suma_series=Numeros_serie_2.add(Numeros_serie_3, fill_value=0)"
   ]
  },
  {
   "cell_type": "code",
   "execution_count": 59,
   "metadata": {},
   "outputs": [
    {
     "name": "stdout",
     "output_type": "stream",
     "text": [
      "cuarto      256.0\n",
      "décimo      668.0\n",
      "noveno       66.0\n",
      "octavo      564.0\n",
      "primero      50.0\n",
      "quinto      358.0\n",
      "segundo     152.0\n",
      "sexto       460.0\n",
      "séptimo      62.0\n",
      "tercero      54.0\n",
      "undécimo    700.0\n",
      "dtype: float64\n"
     ]
    }
   ],
   "source": [
    "print(Suma_series)"
   ]
  },
  {
   "cell_type": "code",
   "execution_count": 60,
   "metadata": {},
   "outputs": [
    {
     "name": "stdout",
     "output_type": "stream",
     "text": [
      "Numeros_serie_2_porcion:\n",
      "quinto     58\n",
      "sexto      60\n",
      "séptimo    62\n",
      "dtype: int64\n",
      "\n",
      "Numeros_serie_3_porcion:\n",
      "décimo      600\n",
      "undécimo    700\n",
      "dtype: int64\n",
      "\n",
      "Suma de las porciones:\n",
      "décimo     NaN\n",
      "quinto     NaN\n",
      "sexto      NaN\n",
      "séptimo    NaN\n",
      "undécimo   NaN\n",
      "dtype: float64\n"
     ]
    }
   ],
   "source": [
    "# Crear porciones de las Series\n",
    "\n",
    "Numeros_serie_2_porcion = Numeros_serie_2[4:7]\n",
    "\n",
    "Numeros_serie_3_porcion = Numeros_serie_3[5:8]\n",
    "\n",
    "# Mostrar las porciones\n",
    "\n",
    "print(\"Numeros_serie_2_porcion:\")\n",
    "\n",
    "print(Numeros_serie_2_porcion)\n",
    "\n",
    "print(\"\\nNumeros_serie_3_porcion:\")\n",
    "\n",
    "print(Numeros_serie_3_porcion)\n",
    "\n",
    " \n",
    "\n",
    "# Sumar las porciones\n",
    "\n",
    "Suma_Porciones = Numeros_serie_2_porcion + Numeros_serie_3_porcion\n",
    "\n",
    "print(\"\\nSuma de las porciones:\")\n",
    "\n",
    "print(Suma_Porciones)"
   ]
  },
  {
   "cell_type": "code",
   "execution_count": 61,
   "metadata": {},
   "outputs": [
    {
     "name": "stdout",
     "output_type": "stream",
     "text": [
      "décimo      600.0\n",
      "quinto       58.0\n",
      "sexto        60.0\n",
      "séptimo      62.0\n",
      "undécimo    700.0\n",
      "dtype: float64\n"
     ]
    }
   ],
   "source": [
    "Suma_Porciones=Numeros_serie_2_porcion.add(Numeros_serie_3_porcion, fill_value=0)\n",
    "print(Suma_Porciones)"
   ]
  },
  {
   "cell_type": "code",
   "execution_count": 62,
   "metadata": {},
   "outputs": [
    {
     "name": "stdout",
     "output_type": "stream",
     "text": [
      "0    15.0\n",
      "1     NaN\n",
      "2    35.0\n",
      "dtype: float64\n"
     ]
    }
   ],
   "source": [
    "# Crear una Serie con un valor NaN\n",
    "\n",
    "serie = pd.Series([10, np.nan, 30])\n",
    "\n",
    "# Sumar 5 a la Serie\n",
    "\n",
    "resultado = serie + 5\n",
    "\n",
    "print(resultado)"
   ]
  },
  {
   "cell_type": "code",
   "execution_count": 63,
   "metadata": {},
   "outputs": [
    {
     "name": "stdout",
     "output_type": "stream",
     "text": [
      "False\n"
     ]
    }
   ],
   "source": [
    "print(np.nan == np.nan)"
   ]
  },
  {
   "cell_type": "code",
   "execution_count": 64,
   "metadata": {},
   "outputs": [
    {
     "name": "stdout",
     "output_type": "stream",
     "text": [
      "0    False\n",
      "1     True\n",
      "2    False\n",
      "dtype: bool\n"
     ]
    }
   ],
   "source": [
    "print(serie.isna())"
   ]
  },
  {
   "cell_type": "markdown",
   "metadata": {},
   "source": [
    ".isnan()\n",
    ".dropnan()"
   ]
  },
  {
   "cell_type": "code",
   "execution_count": 65,
   "metadata": {},
   "outputs": [
    {
     "name": "stdout",
     "output_type": "stream",
     "text": [
      "0    10.0\n",
      "1     0.0\n",
      "2    30.0\n",
      "dtype: float64\n"
     ]
    }
   ],
   "source": [
    "serie_limplia=serie.fillna(0)\n",
    "print(serie_limplia)"
   ]
  },
  {
   "cell_type": "code",
   "execution_count": 66,
   "metadata": {},
   "outputs": [
    {
     "name": "stdout",
     "output_type": "stream",
     "text": [
      "nan\n"
     ]
    }
   ],
   "source": [
    "valor_nan=np.nan\n",
    "res=2*valor_nan\n",
    "print(res)"
   ]
  },
  {
   "cell_type": "code",
   "execution_count": 67,
   "metadata": {},
   "outputs": [
    {
     "name": "stdout",
     "output_type": "stream",
     "text": [
      "<class 'float'>\n"
     ]
    }
   ],
   "source": [
    "print(type(valor_nan))"
   ]
  },
  {
   "cell_type": "code",
   "execution_count": 68,
   "metadata": {},
   "outputs": [
    {
     "name": "stdout",
     "output_type": "stream",
     "text": [
      "2.0\n"
     ]
    }
   ],
   "source": [
    "#calcula el producto de una lista con nan\n",
    "res=np.nanprod([2, valor_nan])\n",
    "print(res)"
   ]
  },
  {
   "cell_type": "code",
   "execution_count": 69,
   "metadata": {},
   "outputs": [
    {
     "name": "stdout",
     "output_type": "stream",
     "text": [
      "<class 'numpy.float64'>\n"
     ]
    }
   ],
   "source": [
    "print(type(res))"
   ]
  },
  {
   "cell_type": "code",
   "execution_count": 75,
   "metadata": {},
   "outputs": [
    {
     "name": "stdout",
     "output_type": "stream",
     "text": [
      "   density    pH  sulphates  alcohol  quality\n",
      "0   0.9978  3.51       0.56      9.4        5\n",
      "1   0.9968  3.20       0.68      9.8        5\n",
      "2   0.9970  3.26       0.65      9.8        5\n",
      "3   0.9980  3.16       0.58      9.8        6\n",
      "4   0.9978  3.51       0.56      9.4        5\n"
     ]
    }
   ],
   "source": [
    "# Leer el archivo CSV\n",
    "\n",
    "df = pd.read_csv('winequality-red.csv', sep=',')\n",
    "\n",
    "# Mostrar las primeras filas del DataFrame con las columnas específicas\n",
    "\n",
    "print(df[['density', 'pH', 'sulphates', 'alcohol', 'quality']].head())"
   ]
  },
  {
   "cell_type": "code",
   "execution_count": 86,
   "metadata": {},
   "outputs": [
    {
     "name": "stdout",
     "output_type": "stream",
     "text": [
      "Collecting openpyxlNote: you may need to restart the kernel to use updated packages.\n",
      "\n",
      "  Downloading openpyxl-3.1.5-py2.py3-none-any.whl.metadata (2.5 kB)\n",
      "Collecting et-xmlfile (from openpyxl)\n",
      "  Downloading et_xmlfile-1.1.0-py3-none-any.whl.metadata (1.8 kB)\n",
      "Downloading openpyxl-3.1.5-py2.py3-none-any.whl (250 kB)\n",
      "Downloading et_xmlfile-1.1.0-py3-none-any.whl (4.7 kB)\n",
      "Installing collected packages: et-xmlfile, openpyxl\n",
      "Successfully installed et-xmlfile-1.1.0 openpyxl-3.1.5\n",
      "                    Name Type 1  HP  Attack  Defense\n",
      "0              Bulbasaur  Grass  45      49       49\n",
      "1                Ivysaur  Grass  60      62       63\n",
      "2               Venusaur  Grass  80      82       83\n",
      "3  VenusaurMega Venusaur  Grass  80     100      123\n",
      "4             Charmander   Fire  39      52       43\n"
     ]
    }
   ],
   "source": [
    "# Leer el archivo TXT desde la misma carpeta o ruta específica\n",
    "df = pd.read_csv('pokemon_data.txt', delimiter='\\t')\n",
    "\n",
    "# Mostrar las primeras filas del DataFrame con las columnas específicas\n",
    "\n",
    "print(df[['Name', 'Type 1', 'HP', 'Attack', 'Defense']].head())"
   ]
  },
  {
   "cell_type": "code",
   "execution_count": 87,
   "metadata": {},
   "outputs": [
    {
     "name": "stdout",
     "output_type": "stream",
     "text": [
      "   index    ID  Year_Birth   Education   Income\n",
      "0      0  5524        1957  Graduation  58138.0\n",
      "1      1  2174        1954  Graduation  46344.0\n",
      "2      2  4141        1965  Graduation  71613.0\n",
      "3      3  6182        1984  Graduation  26646.0\n",
      "4      4  5324        1981         PhD  58293.0\n"
     ]
    }
   ],
   "source": [
    "#%pip install openpyxl\n",
    "\n",
    "df = pd.read_excel('_defaultoutput.xlsx')\n",
    "\n",
    "# Mostrar las primeras filas del DataFrame con las columnas específicas\n",
    "\n",
    "print(df[['index', 'ID', 'Year_Birth', 'Education', 'Income']].head())\n",
    "\n"
   ]
  },
  {
   "cell_type": "code",
   "execution_count": 78,
   "metadata": {},
   "outputs": [
    {
     "name": "stdout",
     "output_type": "stream",
     "text": [
      "                 AMZN    MCD  SBUX   GOOG  MSFT\n",
      "formatted_date                                 \n",
      "2016-01-01      587.0  106.3  54.4  743.0  49.9\n",
      "2016-02-01      552.5  100.7  52.1  697.8  46.0\n",
      "2016-03-01      593.6  108.8  53.6  745.0  50.3\n",
      "2016-04-01      659.6  109.5  50.5  693.0  45.5\n",
      "2016-05-01      722.8  105.6  49.3  735.7  48.3\n"
     ]
    }
   ],
   "source": [
    "# URL del archivo CSV\n",
    "\n",
    "url = 'https://raw.githubusercontent.com/JJTorresDS/stocks-ds-edu/main/stocks.csv'\n",
    "\n",
    "# Leer el archivo CSV desde la URL\n",
    "\n",
    "df = pd.read_csv(url, index_col=0)\n",
    "\n",
    "# Mostrar las primeras 5 filas de las columnas especificadas, redondeadas a 1 decimal\n",
    "\n",
    "print(df[['AMZN', 'MCD', 'SBUX', 'GOOG', 'MSFT']].head(5).round(1))"
   ]
  },
  {
   "cell_type": "code",
   "execution_count": 85,
   "metadata": {},
   "outputs": [
    {
     "name": "stdout",
     "output_type": "stream",
     "text": [
      "Requirement already satisfied: requests in c:\\users\\maria\\miniconda3\\envs\\ds12024\\lib\\site-packages (2.32.3)\n",
      "Requirement already satisfied: charset-normalizer<4,>=2 in c:\\users\\maria\\miniconda3\\envs\\ds12024\\lib\\site-packages (from requests) (3.3.2)\n",
      "Requirement already satisfied: idna<4,>=2.5 in c:\\users\\maria\\miniconda3\\envs\\ds12024\\lib\\site-packages (from requests) (3.8)\n",
      "Requirement already satisfied: urllib3<3,>=1.21.1 in c:\\users\\maria\\miniconda3\\envs\\ds12024\\lib\\site-packages (from requests) (2.2.2)\n",
      "Requirement already satisfied: certifi>=2017.4.17 in c:\\users\\maria\\miniconda3\\envs\\ds12024\\lib\\site-packages (from requests) (2024.7.4)\n",
      "Note: you may need to restart the kernel to use updated packages.\n",
      "Shape:  (159, 16)\n",
      "  manufact    model   sales  resale   type   price engine_s horsepow wheelbas  \\\n",
      "0    Acura  Integra  16.919  16.360  0.000  21.500    1.800  140.000  101.200   \n",
      "1    Acura       TL  39.384  19.875  0.000  28.400    3.200  225.000  108.100   \n",
      "2    Acura       CL  14.114  18.225  0.000  $null$    3.200  225.000  106.900   \n",
      "3    Acura       RL   8.588  29.725  0.000  42.000    3.500  210.000  114.600   \n",
      "4     Audi       A4  20.397  22.255  0.000  23.990    1.800  150.000  102.600   \n",
      "\n",
      "    width   length curb_wgt fuel_cap     mpg lnsales  partition  \n",
      "0  67.300  172.400    2.639   13.200  28.000   2.828        0.0  \n",
      "1  70.300  192.900    3.517   17.200  25.000   3.673        0.0  \n",
      "2  70.600  192.000    3.470   17.200  26.000   2.647        0.0  \n",
      "3  71.400  196.600    3.850   18.000  22.000   2.150        0.0  \n",
      "4  68.200  178.000    2.998   16.400  27.000   3.015        0.0  \n"
     ]
    }
   ],
   "source": [
    "#%pip install requests\n",
    "import requests\n",
    "\n",
    "# URL del archivo CSV\n",
    "\n",
    "url = 'https://s3-api.us-geo.objectstorage.softlayer.net/cf-courses-data/CognitiveClass/ML0101ENv3/labs/cars_clus.csv'\n",
    "\n",
    "# Descargar el archivo CSV usando requests\n",
    "\n",
    "response = requests.get(url)\n",
    "\n",
    "# Verificar que la solicitud fue exitosa\n",
    "\n",
    "if response.status_code == 200:\n",
    "\n",
    "    # Guardar el contenido en un archivo local\n",
    "\n",
    "    with open('cars_clus.csv', 'wb') as file:\n",
    "\n",
    "        file.write(response.content)\n",
    "\n",
    "    \n",
    "\n",
    "    # Leer el archivo CSV usando pandas\n",
    "\n",
    "    pdf = pd.read_csv('cars_clus.csv')\n",
    "\n",
    "    # Imprimir la forma del DataFrame y las primeras 5 filas\n",
    "\n",
    "    print(\"Shape: \", pdf.shape)\n",
    "\n",
    "    print(pdf.head(5))\n",
    "\n",
    "else:\n",
    "\n",
    "    print(\"Error al descargar el archivo. Código de estado:\", response.status_code)"
   ]
  },
  {
   "cell_type": "code",
   "execution_count": null,
   "metadata": {},
   "outputs": [],
   "source": []
  }
 ],
 "metadata": {
  "kernelspec": {
   "display_name": "ds12024",
   "language": "python",
   "name": "python3"
  },
  "language_info": {
   "codemirror_mode": {
    "name": "ipython",
    "version": 3
   },
   "file_extension": ".py",
   "mimetype": "text/x-python",
   "name": "python",
   "nbconvert_exporter": "python",
   "pygments_lexer": "ipython3",
   "version": "undefined.undefined.undefined"
  }
 },
 "nbformat": 4,
 "nbformat_minor": 2
}
