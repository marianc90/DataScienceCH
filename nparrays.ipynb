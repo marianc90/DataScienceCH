{
 "cells": [
  {
   "cell_type": "code",
   "execution_count": 3,
   "metadata": {},
   "outputs": [
    {
     "name": "stdout",
     "output_type": "stream",
     "text": [
      "[1 2 3 4 5]\n",
      "[[1 2 3]\n",
      " [4 5 6]\n",
      " [7 8 9]]\n",
      "[[[1 2]\n",
      "  [3 4]]\n",
      "\n",
      " [[5 6]\n",
      "  [7 8]]]\n"
     ]
    }
   ],
   "source": [
    "import numpy as np\n",
    "\n",
    "array_1d = np.array([1, 2, 3, 4, 5])\n",
    "\n",
    "print(array_1d)\n",
    "\n",
    "array_2d = np.array([[1, 2, 3], [4, 5, 6], [7, 8, 9]])\n",
    "\n",
    "print(array_2d)\n",
    "\n",
    "array_3d = np.array([[[1, 2], [3, 4]], [[5, 6], [7, 8]]])\n",
    "\n",
    "print(array_3d)"
   ]
  },
  {
   "cell_type": "code",
   "execution_count": 3,
   "metadata": {},
   "outputs": [
    {
     "name": "stdout",
     "output_type": "stream",
     "text": [
      "[0 1 2 3 4 5 6 7 8 9]\n"
     ]
    }
   ],
   "source": [
    "# Crear un ndarray usando np.array() con un rango de números\n",
    "\n",
    "Npa = np.array(range(10))\n",
    "\n",
    "# Mostrar el array\n",
    "\n",
    "print(Npa)"
   ]
  },
  {
   "cell_type": "code",
   "execution_count": 5,
   "metadata": {},
   "outputs": [
    {
     "data": {
      "text/plain": [
       "array([0., 0., 0., 0., 0., 0., 0., 0., 0., 0.])"
      ]
     },
     "execution_count": 5,
     "metadata": {},
     "output_type": "execute_result"
    }
   ],
   "source": [
    "Np_cero = np.zeros(10)\n",
    "\n",
    "Np_cero\n",
    "\n"
   ]
  },
  {
   "cell_type": "code",
   "execution_count": 6,
   "metadata": {},
   "outputs": [
    {
     "data": {
      "text/plain": [
       "array([0, 0, 0, 0, 0, 0, 0, 0, 0, 0])"
      ]
     },
     "execution_count": 6,
     "metadata": {},
     "output_type": "execute_result"
    }
   ],
   "source": [
    "Np_cero_int = np.zeros(10, dtype=int)\n",
    "\n",
    "Np_cero_int\n",
    "\n"
   ]
  },
  {
   "cell_type": "code",
   "execution_count": 7,
   "metadata": {},
   "outputs": [
    {
     "data": {
      "text/plain": [
       "array([1., 1., 1., 1., 1., 1., 1., 1., 1., 1.])"
      ]
     },
     "execution_count": 7,
     "metadata": {},
     "output_type": "execute_result"
    }
   ],
   "source": [
    "Np_uno = np.ones(10)\n",
    "\n",
    "Np_uno\n",
    "\n"
   ]
  },
  {
   "cell_type": "code",
   "execution_count": 8,
   "metadata": {},
   "outputs": [
    {
     "data": {
      "text/plain": [
       "array([256, 256, 256, 256, 256, 256, 256, 256, 256, 256])"
      ]
     },
     "execution_count": 8,
     "metadata": {},
     "output_type": "execute_result"
    }
   ],
   "source": [
    "Np_relleno = np.full(10,256)\n",
    "\n",
    "Np_relleno"
   ]
  },
  {
   "cell_type": "code",
   "execution_count": 10,
   "metadata": {},
   "outputs": [
    {
     "name": "stdout",
     "output_type": "stream",
     "text": [
      "[0 1 2 3 4 5 6 7 8 9]\n"
     ]
    }
   ],
   "source": [
    "Np_rango = np.arange(10) \n",
    "print(Np_rango)\n",
    "\n",
    "\n"
   ]
  },
  {
   "cell_type": "code",
   "execution_count": 11,
   "metadata": {},
   "outputs": [
    {
     "name": "stdout",
     "output_type": "stream",
     "text": [
      "[[3 2 2 5]\n",
      " [6 4 0 0]\n",
      " [8 4 0 8]]\n"
     ]
    }
   ],
   "source": [
    "Np_random_dimensiones = np.random.randint(10, size=(3, 4))\n",
    "\n",
    "print(Np_random_dimensiones)"
   ]
  },
  {
   "cell_type": "code",
   "execution_count": 13,
   "metadata": {},
   "outputs": [
    {
     "name": "stdout",
     "output_type": "stream",
     "text": [
      "[1 2 3]\n",
      "int32\n"
     ]
    }
   ],
   "source": [
    "\n",
    "# Crear un array de números de punto flotante\n",
    "\n",
    "arr = np.array([1.1, 2.1, 3.1])\n",
    "\n",
    " \n",
    "\n",
    "# Convertir el tipo de dato del array a entero\n",
    "\n",
    "newarr = arr.astype(\"i\") # Imprimir el nuevo array y su tipo de dato \n",
    "print(newarr) \n",
    "print(newarr.dtype)"
   ]
  },
  {
   "cell_type": "code",
   "execution_count": 14,
   "metadata": {},
   "outputs": [
    {
     "name": "stdout",
     "output_type": "stream",
     "text": [
      "[0 1 2 3 4 5 6 7 8 9]\n"
     ]
    }
   ],
   "source": [
    "Np_rango = np.arange(10) # Imprimir el array \n",
    "print(Np_rango)"
   ]
  },
  {
   "cell_type": "code",
   "execution_count": 15,
   "metadata": {},
   "outputs": [
    {
     "name": "stdout",
     "output_type": "stream",
     "text": [
      "[[2 3 0 1]\n",
      " [5 4 2 7]\n",
      " [0 3 4 6]]\n"
     ]
    }
   ],
   "source": [
    "# Crear un array de dos dimensiones con valores enteros aleatorios\n",
    "\n",
    "Np_random_dimensiones = np.random.randint(10, size=(3, 4))\n",
    "\n",
    "# Imprimir el array\n",
    "\n",
    "print(Np_random_dimensiones)"
   ]
  },
  {
   "cell_type": "code",
   "execution_count": 4,
   "metadata": {},
   "outputs": [
    {
     "name": "stdout",
     "output_type": "stream",
     "text": [
      "[1 2 3]\n",
      "int32\n",
      "[0 1 2 3 4 5 6 7 8 9]\n"
     ]
    }
   ],
   "source": [
    "# Crear un array de números de punto flotante\n",
    "\n",
    "arr = np.array([1.1, 2.1, 3.1])\n",
    "\n",
    " \n",
    "\n",
    "# Convertir el tipo de dato del array a entero\n",
    "\n",
    "newarr = arr.astype(\"i\") # Imprimir el nuevo array y su tipo de dato \n",
    "print(newarr) \n",
    "print(newarr.dtype)\n",
    "\n",
    "# Crear un array con valores del 0 al 9 \n",
    "Np_rango = np.arange(10) # Imprimir el array \n",
    "print(Np_rango)\n"
   ]
  },
  {
   "cell_type": "code",
   "execution_count": 5,
   "metadata": {},
   "outputs": [
    {
     "name": "stdout",
     "output_type": "stream",
     "text": [
      "[[2 6 6 4]\n",
      " [7 9 3 5]\n",
      " [0 9 0 0]]\n",
      "Forma de Np_random_dimensiones: (3, 4)\n",
      "Tamaño de Np_random_dimensiones: 12\n",
      "Tipo de dato de Np_cero: float64\n",
      "Tipo de dato de Np_cero_int: int64\n",
      "Tamaño de cada elemento en Np_random_dimensiones: 4\n"
     ]
    }
   ],
   "source": [
    "# Crear un array de dos dimensiones con valores enteros aleatorios\n",
    "\n",
    "Np_random_dimensiones = np.random.randint(10, size=(3, 4))\n",
    "\n",
    "# Imprimir el array\n",
    "\n",
    "print(Np_random_dimensiones)\n",
    "\n",
    "# Ver la forma del array\n",
    "\n",
    "print(\"Forma de Np_random_dimensiones:\", Np_random_dimensiones.shape)\n",
    "\n",
    "# Ver el tamaño del array\n",
    "\n",
    "print(\"Tamaño de Np_random_dimensiones:\", Np_random_dimensiones.size)\n",
    "\n",
    "# Crear arrays con diferentes tipos de datos\n",
    "\n",
    "Np_cero = np.zeros(10)\n",
    "\n",
    "Np_cero_int = np.zeros(10, dtype=int)\n",
    "\n",
    " \n",
    "\n",
    "# Ver el tipo de dato\n",
    "\n",
    "print(\"Tipo de dato de Np_cero:\", Np_cero.dtype)\n",
    "\n",
    "print(\"Tipo de dato de Np_cero_int:\", Np_cero_int.dtype)\n",
    "\n",
    "# Ver el tamaño del elemento en bytes\n",
    "\n",
    "print(\"Tamaño de cada elemento en Np_random_dimensiones:\", Np_random_dimensiones.itemsize)"
   ]
  },
  {
   "cell_type": "code",
   "execution_count": 6,
   "metadata": {},
   "outputs": [
    {
     "name": "stdout",
     "output_type": "stream",
     "text": [
      "[[ 1  2  3  4  5  6  7  8]\n",
      " [ 9 10 11 12 13 14 15 16]\n",
      " [17 18 19 20 21 22 23 24]\n",
      " [25 26 27 28 29 30 31 32]\n",
      " [33 34 35 36 37 38 39 40]\n",
      " [41 42 43 44 45 46 47 48]\n",
      " [49 50 51 52 53 54 55 56]\n",
      " [57 58 59 60 61 62 63 64]]\n"
     ]
    }
   ],
   "source": [
    "# Crear un arreglo con números del 1 al 64\n",
    "\n",
    "numeros = np.arange(1, 65)\n",
    "\n",
    "# Cambiar la forma del arreglo a una grilla de 8x8\n",
    "\n",
    "grilla = numeros.reshape(8, 8)\n",
    "\n",
    "# Mostrar el resultado\n",
    "\n",
    "print(grilla)"
   ]
  },
  {
   "cell_type": "code",
   "execution_count": 8,
   "metadata": {},
   "outputs": [
    {
     "name": "stdout",
     "output_type": "stream",
     "text": [
      "[[ 0  1  2  3  4  5]\n",
      " [ 6  7  8  9 10 11]\n",
      " [12 13 14 15 16 17]\n",
      " [18 19 20 21 22 23]]\n"
     ]
    }
   ],
   "source": [
    "# Crear un arreglo con 24 elementos\n",
    "\n",
    "arreglo = np.arange(24)\n",
    "\n",
    "# Cambiar la forma del arreglo a 4x6\n",
    "\n",
    "nuevo_arreglo = arreglo.reshape(4, 6)\n",
    "\n",
    "print(nuevo_arreglo)"
   ]
  },
  {
   "cell_type": "code",
   "execution_count": 9,
   "metadata": {},
   "outputs": [
    {
     "name": "stdout",
     "output_type": "stream",
     "text": [
      "Array_1: [3 8 7 9 8]\n",
      "Array_2: [8 1 9 2 6]\n",
      "Arrays_concatenados: [3 8 7 9 8 8 1 9 2 6]\n"
     ]
    }
   ],
   "source": [
    "\n",
    "\n",
    "# Crear dos arreglos aleatorios\n",
    "\n",
    "Array_1 = np.random.randint(10, size=5)\n",
    "\n",
    "Array_2 = np.random.randint(10, size=5)\n",
    "\n",
    " \n",
    "\n",
    "# Concatenar los arreglos\n",
    "\n",
    "Arrays_concatenados = np.concatenate([Array_1, Array_2])\n",
    "\n",
    " \n",
    "\n",
    "print(\"Array_1:\", Array_1)\n",
    "\n",
    "print(\"Array_2:\", Array_2)\n",
    "\n",
    "print(\"Arrays_concatenados:\", Arrays_concatenados)"
   ]
  },
  {
   "cell_type": "code",
   "execution_count": 10,
   "metadata": {},
   "outputs": [
    {
     "name": "stdout",
     "output_type": "stream",
     "text": [
      "Array_1:\n",
      " [[1 2 3]\n",
      " [4 5 6]]\n",
      "Array_2:\n",
      " [[ 7  8  9]\n",
      " [10 11 12]]\n",
      "Arrays_apilados_verticalmente:\n",
      " [[ 1  2  3]\n",
      " [ 4  5  6]\n",
      " [ 7  8  9]\n",
      " [10 11 12]]\n"
     ]
    }
   ],
   "source": [
    "# Crear dos arreglos 2D\n",
    "\n",
    "Array_1 = np.array([[1, 2, 3], [4, 5, 6]])\n",
    "\n",
    "Array_2 = np.array([[7, 8, 9], [10, 11, 12]])\n",
    "\n",
    " \n",
    "\n",
    "# Apilar los arreglos verticalmente\n",
    "\n",
    "Arrays_apilados_verticalmente = np.vstack([Array_1, Array_2])\n",
    "\n",
    " \n",
    "\n",
    "print(\"Array_1:\\n\", Array_1)\n",
    "\n",
    "print(\"Array_2:\\n\", Array_2)\n",
    "\n",
    "print(\"Arrays_apilados_verticalmente:\\n\", Arrays_apilados_verticalmente)"
   ]
  },
  {
   "cell_type": "code",
   "execution_count": 11,
   "metadata": {},
   "outputs": [
    {
     "name": "stdout",
     "output_type": "stream",
     "text": [
      "Array_1:\n",
      " [[1 2 3]\n",
      " [4 5 6]]\n",
      "Array_2:\n",
      " [[ 7  8  9]\n",
      " [10 11 12]]\n",
      "Arrays_apilados_horizontalmente:\n",
      " [[ 1  2  3  7  8  9]\n",
      " [ 4  5  6 10 11 12]]\n"
     ]
    }
   ],
   "source": [
    "# Crear dos arreglos 2D\n",
    "\n",
    "Array_1 = np.array([[1, 2, 3], [4, 5, 6]])\n",
    "\n",
    "Array_2 = np.array([[7, 8, 9], [10, 11, 12]])\n",
    "\n",
    " \n",
    "\n",
    "# Apilar los arreglos horizontalmente\n",
    "\n",
    "Arrays_apilados_horizontalmente = np.hstack([Array_1, Array_2])\n",
    "\n",
    " \n",
    "\n",
    "print(\"Array_1:\\n\", Array_1)\n",
    "\n",
    "print(\"Array_2:\\n\", Array_2)\n",
    "\n",
    "print(\"Arrays_apilados_horizontalmente:\\n\", Arrays_apilados_horizontalmente)"
   ]
  },
  {
   "cell_type": "code",
   "execution_count": 12,
   "metadata": {},
   "outputs": [
    {
     "name": "stdout",
     "output_type": "stream",
     "text": [
      "Array_concatenados: [ 1  2  3  4  5  6  7  8  9 10]\n",
      "Array_partido: [array([1, 2]), array([ 3,  4,  5,  6,  7,  8,  9, 10])]\n"
     ]
    }
   ],
   "source": [
    "# Crear un arreglo concatenado\n",
    "\n",
    "Arrays_concatenados = np.array([1, 2, 3, 4, 5, 6, 7, 8, 9, 10])\n",
    "\n",
    " \n",
    "\n",
    "# Dividir en dos partes usando un punto de corte\n",
    "\n",
    "Array_partido = np.split(Arrays_concatenados, [2])\n",
    "\n",
    " \n",
    "\n",
    "print(\"Array_concatenados:\", Arrays_concatenados)\n",
    "\n",
    "print(\"Array_partido:\", Array_partido)"
   ]
  },
  {
   "cell_type": "code",
   "execution_count": 13,
   "metadata": {},
   "outputs": [
    {
     "name": "stdout",
     "output_type": "stream",
     "text": [
      "Parte_1: [1 2]\n",
      "Parte_2: [3 4 5 6 7 8]\n",
      "Parte_3: [ 9 10]\n"
     ]
    }
   ],
   "source": [
    "# Crear un arreglo concatenado\n",
    "\n",
    "Arrays_concatenados = np.array([1, 2, 3, 4, 5, 6, 7, 8, 9, 10])\n",
    "\n",
    " \n",
    "\n",
    "# Dividir en tres partes usando dos puntos de corte\n",
    "\n",
    "Array_partido_2 = np.split(Arrays_concatenados, [2, 8])\n",
    "\n",
    " \n",
    "\n",
    "# Asignar a variables distintas\n",
    "\n",
    "Parte_1, Parte_2, Parte_3 = Array_partido_2\n",
    "\n",
    " \n",
    "\n",
    "print(\"Parte_1:\", Parte_1)\n",
    "\n",
    "print(\"Parte_2:\", Parte_2)\n",
    "\n",
    "print(\"Parte_3:\", Parte_3)"
   ]
  }
 ],
 "metadata": {
  "kernelspec": {
   "display_name": "ds12024",
   "language": "python",
   "name": "python3"
  },
  "language_info": {
   "codemirror_mode": {
    "name": "ipython",
    "version": 3
   },
   "file_extension": ".py",
   "mimetype": "text/x-python",
   "name": "python",
   "nbconvert_exporter": "python",
   "pygments_lexer": "ipython3",
   "version": "3.10.4"
  }
 },
 "nbformat": 4,
 "nbformat_minor": 2
}
